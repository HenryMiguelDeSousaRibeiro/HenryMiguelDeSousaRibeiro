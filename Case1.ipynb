{
  "cells": [
    {
      "cell_type": "markdown",
      "metadata": {
        "id": "view-in-github",
        "colab_type": "text"
      },
      "source": [
        "<a href=\"https://colab.research.google.com/github/HenryMiguelDeSousaRibeiro/HenryMiguelDeSousaRibeiro/blob/main/Case1.ipynb\" target=\"_parent\"><img src=\"https://colab.research.google.com/assets/colab-badge.svg\" alt=\"Open In Colab\"/></a>"
      ]
    },
    {
      "cell_type": "code",
      "source": [
        "#Henry Miguel, Gustavo Pontello, Pedro Vilches"
      ],
      "metadata": {
        "id": "ijkEXyNDCzFf"
      },
      "execution_count": null,
      "outputs": []
    },
    {
      "cell_type": "code",
      "source": [
        "#O coeficiente angular é 91°"
      ],
      "metadata": {
        "id": "_145_ZA__tSQ"
      },
      "execution_count": null,
      "outputs": []
    },
    {
      "cell_type": "code",
      "source": [
        "x = (int(input(\"Digite o ano que gostaria de saber\")))\n",
        "calculo = 91*x+723\n",
        "print(\"O numero correspondente ao ano é: \",calculo)"
      ],
      "metadata": {
        "id": "ag7bWta3_p5q",
        "outputId": "07b7fa01-7e54-45b3-dc9e-f44ce5385a99",
        "colab": {
          "base_uri": "https://localhost:8080/"
        }
      },
      "execution_count": null,
      "outputs": [
        {
          "output_type": "stream",
          "name": "stdout",
          "text": [
            "Digite o ano que gostaria de saber7\n",
            "O numero correspondente ao ano é:  1360\n"
          ]
        }
      ]
    }
  ],
  "metadata": {
    "colab": {
      "toc_visible": true,
      "provenance": [],
      "include_colab_link": true
    },
    "kernelspec": {
      "display_name": "Python 3",
      "name": "python3"
    }
  },
  "nbformat": 4,
  "nbformat_minor": 0
}